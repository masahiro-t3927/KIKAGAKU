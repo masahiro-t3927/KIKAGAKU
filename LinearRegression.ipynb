{
  "nbformat": 4,
  "nbformat_minor": 0,
  "metadata": {
    "colab": {
      "name": "LinearRegression.ipynb",
      "provenance": [],
      "authorship_tag": "ABX9TyN6sWhH9l/g/TxNz3SS5CH9",
      "include_colab_link": true
    },
    "kernelspec": {
      "name": "python3",
      "display_name": "Python 3"
    },
    "accelerator": "GPU"
  },
  "cells": [
    {
      "cell_type": "markdown",
      "metadata": {
        "id": "view-in-github",
        "colab_type": "text"
      },
      "source": [
        "<a href=\"https://colab.research.google.com/github/masahiro-t3927/KIKAGAKU/blob/master/LinearRegression.ipynb\" target=\"_parent\"><img src=\"https://colab.research.google.com/assets/colab-badge.svg\" alt=\"Open In Colab\"/></a>"
      ]
    },
    {
      "cell_type": "code",
      "metadata": {
        "id": "uajVcoguPY0k",
        "colab_type": "code",
        "colab": {
          "base_uri": "https://localhost:8080/",
          "height": 581
        },
        "outputId": "97572405-0180-4cde-c40b-3e4bb5fa0486"
      },
      "source": [
        "import numpy as np\n",
        "import pandas as pd\n",
        "import matplotlib.pyplot as plt\n",
        "import seaborn as sns\n",
        "from sklearn.datasets import load_boston\n",
        "from sklearn.model_selection import train_test_split\n",
        "from sklearn.linear_model import LinearRegression\n",
        "\n",
        "\"\"\"\n",
        "---前処理部分\n",
        "\"\"\"\n",
        "#データ読み込み\n",
        "dataset = load_boston() #ボストン近郊の住宅価格のデータセット。\n",
        "x, t = dataset.data, dataset.target #data:入力変数。価格算出のための材料。　target：目的変数。住宅価格。\n",
        "columns = dataset.feature_names\n",
        "\n",
        "#dfに値を読み込んでいく\n",
        "df = pd.DataFrame(x, columns=columns)\n",
        "df.head(3) #表示するのは最初から３行のみ\n",
        "\n",
        "# 目標値(Target)をdfのヘッダと値に追加\n",
        "df['Target'] = t\n",
        "df.head(3)\n",
        "\n",
        "# 入力変数と目的変数の切り分け\n",
        "t = df['Target'].values #目的変数\n",
        "x = df.drop(labels=['Target'], axis=1).values  #目的変数の列（axis＝1）を削除し、残りを入力変数とする\n",
        "# 入力変数、目的変数をそれぞれ学習/評価用の2つに分割\n",
        "#test_size=0.3:学習データ７割、テストデータ３割として設定。\n",
        "#random_state=0:データセットの固定を実施。実行のたびにデータセットが異なることを避ける。\n",
        "x_train, x_test, t_train, t_test = train_test_split(x, t, test_size=0.3, random_state=0)\n",
        "\n",
        "\"\"\"\n",
        "---モデル部分\n",
        "\"\"\"\n",
        "#step1 モデル定義\n",
        "model = LinearRegression() #重回帰分析でモデル構築\n",
        "#step2 モデルの学習\n",
        "model.fit(x_train, t_train)\n",
        "\n",
        "# 学習後のパラメータ w \n",
        "print(\"w= \", model.coef_)\n",
        "\n",
        "# パラメータの分布をヒストグラムで可視化\n",
        "plt.figure(figsize=(10, 7))\n",
        "plt.bar(x=columns, height=model.coef_);\n",
        "\n",
        "# 学習後のバイアス b\n",
        "print(\"b= \", model.intercept_)\n",
        "\n",
        "# Step 3：学習モデルの検証\n",
        "#LinerRegressionでは、score()メソッドで決定係数がリターンできる。（0~1の範囲、１に近いほど性能が良い）\n",
        "print('train score : ', model.score(x_train, t_train))\n",
        "print('test score : ', model.score(x_test, t_test))\n",
        "\n",
        "#推論実施\n",
        "y=model.predict(x_test)\n",
        "     \n",
        "print('予測値: ', y[0])\n",
        "print('目標値: ', t_test[0])\n",
        "\n",
        "# モデルの定義、ハイパーパラメータの値を設定\n",
        "from sklearn.linear_model import Ridge\n",
        "ridge = Ridge(alpha=1)\n",
        "\n",
        "# モデルの学習\n",
        "ridge.fit(x_train, t_train)\n",
        "# モデルの検証\n",
        "print('train score : ', ridge.score(x_train, t_train))\n",
        "print('test score : ', ridge.score(x_test, t_test))"
      ],
      "execution_count": 4,
      "outputs": [
        {
          "output_type": "stream",
          "text": [
            "w=  [-1.21310401e-01  4.44664254e-02  1.13416945e-02  2.51124642e+00\n",
            " -1.62312529e+01  3.85906801e+00 -9.98516565e-03 -1.50026956e+00\n",
            "  2.42143466e-01 -1.10716124e-02 -1.01775264e+00  6.81446545e-03\n",
            " -4.86738066e-01]\n",
            "b=  37.93710774183309\n",
            "train score :  0.7645451026942549\n",
            "test score :  0.6733825506400171\n",
            "予測値:  24.935707898576915\n",
            "目標値:  22.6\n"
          ],
          "name": "stdout"
        },
        {
          "output_type": "display_data",
          "data": {
            "image/png": "[encoded data removed]",
            "text/plain": [
              "<Figure size 720x504 with 1 Axes>"
            ]
          },
          "metadata": {
            "tags": [],
            "needs_background": "light"
          }
        }
      ]
    }
  ]
}