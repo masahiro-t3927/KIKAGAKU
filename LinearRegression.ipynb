{
  "nbformat": 4,
  "nbformat_minor": 0,
  "metadata": {
    "colab": {
      "name": "Untitled0.ipynb",
      "provenance": [],
      "authorship_tag": "ABX9TyPnIabBaGH7ULmXftEUCp9Z",
      "include_colab_link": true
    },
    "kernelspec": {
      "name": "python3",
      "display_name": "Python 3"
    },
    "accelerator": "GPU"
  },
  "cells": [
    {
      "cell_type": "markdown",
      "metadata": {
        "id": "view-in-github",
        "colab_type": "text"
      },
      "source": [
        "<a href=\"https://colab.research.google.com/github/masahiro-t3927/KIKAGAKU/blob/master/LinearRegression.ipynb\" target=\"_parent\"><img src=\"https://colab.research.google.com/assets/colab-badge.svg\" alt=\"Open In Colab\"/></a>"
      ]
    },
    {
      "cell_type": "code",
      "metadata": {
        "id": "Z4stp2wBOkMT",
        "colab_type": "code",
        "outputId": "ce689bd2-5583-4788-8bc8-aae87fd91e8e",
        "colab": {
          "base_uri": "https://localhost:8080/",
          "height": 279
        }
      },
      "source": [
        "import numpy as np\n",
        "import matplotlib.pyplot as plt\n",
        "\n",
        "n_cols = 2\n",
        "n_rows = 2\n",
        "\n",
        "plt.figure(figsize=(20,8))\n",
        "\n",
        "x = np.arange(-5,5,0.1)\n",
        "\n",
        "y=x\n",
        "plt.subplot(n_rows,n_cols,1)\n",
        "plt.title('x')\n",
        "plt.ylim(-10,10); plt.plot(x,y)"
      ],
      "execution_count": 0,
      "outputs": [
        {
          "output_type": "execute_result",
          "data": {
            "text/plain": [
              "[<matplotlib.lines.Line2D at 0x7f98ddbc7ac8>]"
            ]
          },
          "metadata": {
            "tags": []
          },
          "execution_count": 3
        },
        {
          "output_type": "display_data",
          "data": {
            "image/png": "[encoded data removed]",
            "text/plain": [
              "<Figure size 1440x576 with 1 Axes>"
            ]
          },
          "metadata": {
            "tags": []
          }
        }
      ]
    },
    {
      "cell_type": "code",
      "metadata": {
        "id": "uajVcoguPY0k",
        "colab_type": "code",
        "colab": {}
      },
      "source": [
        "import numpy as np\n",
        "import pandas as pd\n",
        "import matplotlib.pyplot as plt\n",
        "import seaborn as sns\n",
        "from sklearn.datasets import load_boston\n",
        "from sklearn.model_selection import train_test_split\n",
        "\n",
        "#データ読み込み\n",
        "dataset = load_boston() #ボストン近郊の住宅価格のデータセット。\n",
        "x, t = dataset.data, dataset.target #data:入力変数。価格算出のための材料。　target：目的変数。住宅価格。\n",
        "columns = dataset.feature_names\n",
        "\n",
        "#dfに値を読み込んでいく\n",
        "df = pd.DataFrame(x, columns=columns)\n",
        "df.head(3) #表示するのは最初から３行のみ\n",
        "\n",
        "# 目標値(Target)をdfのヘッダと値に追加\n",
        "df['Target'] = t\n",
        "df.head(3)\n",
        "\n",
        "# 入力変数と目的変数の切り分け\n",
        "t = df['Target'].values #目的変数\n",
        "x = df.drop(labels=['Target'], axis=1).values  #目的変数の列（axis＝1）を削除し、残りを入力変数とする\n",
        "# 入力変数、目的変数をそれぞれ学習/評価用の2つに分割\n",
        "#test_size=0.3:学習データ７割、テストデータ３割として設定。\n",
        "#random_state=0:データセットの固定を実施。実行のたびにデータセットが異なることを避ける。\n",
        "x_train, x_test, t_train, t_test = train_test_split(x, t, test_size=0.3, random_state=0)"
      ],
      "execution_count": 0,
      "outputs": []
    }
  ]
}