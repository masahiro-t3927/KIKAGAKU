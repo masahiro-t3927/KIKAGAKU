{
  "nbformat": 4,
  "nbformat_minor": 0,
  "metadata": {
    "colab": {
      "name": "Tensorflow_ Classification.ipynb",
      "provenance": [],
      "authorship_tag": "ABX9TyN5MmaxHG+auWOFP+V0hvbD",
      "include_colab_link": true
    },
    "kernelspec": {
      "name": "python3",
      "display_name": "Python 3"
    }
  },
  "cells": [
    {
      "cell_type": "markdown",
      "metadata": {
        "id": "view-in-github",
        "colab_type": "text"
      },
      "source": [
        "<a href=\"https://colab.research.google.com/github/masahiro-t3927/KIKAGAKU/blob/master/Tensorflow__Classification.ipynb\" target=\"_parent\"><img src=\"https://colab.research.google.com/assets/colab-badge.svg\" alt=\"Open In Colab\"/></a>"
      ]
    },
    {
      "cell_type": "code",
      "metadata": {
        "id": "deVXf78_Dxqp",
        "colab_type": "code",
        "outputId": "1d11c848-2981-40ea-e438-6e4efce9a2a4",
        "colab": {
          "resources": {
            "http://localhost:8080/nbextensions/google.colab/files.js": {
              "data": "Ly8gQ29weXJpZ2h0IDIwMTcgR29vZ2xlIExMQwovLwovLyBMaWNlbnNlZCB1bmRlciB0aGUgQXBhY2hlIExpY2Vuc2UsIFZlcnNpb24gMi4wICh0aGUgIkxpY2Vuc2UiKTsKLy8geW91IG1heSBub3QgdXNlIHRoaXMgZmlsZSBleGNlcHQgaW4gY29tcGxpYW5jZSB3aXRoIHRoZSBMaWNlbnNlLgovLyBZb3UgbWF5IG9idGFpbiBhIGNvcHkgb2YgdGhlIExpY2Vuc2UgYXQKLy8KLy8gICAgICBodHRwOi8vd3d3LmFwYWNoZS5vcmcvbGljZW5zZXMvTElDRU5TRS0yLjAKLy8KLy8gVW5sZXNzIHJlcXVpcmVkIGJ5IGFwcGxpY2FibGUgbGF3IG9yIGFncmVlZCB0byBpbiB3cml0aW5nLCBzb2Z0d2FyZQovLyBkaXN0cmlidXRlZCB1bmRlciB0aGUgTGljZW5zZSBpcyBkaXN0cmlidXRlZCBvbiBhbiAiQVMgSVMiIEJBU0lTLAovLyBXSVRIT1VUIFdBUlJBTlRJRVMgT1IgQ09ORElUSU9OUyBPRiBBTlkgS0lORCwgZWl0aGVyIGV4cHJlc3Mgb3IgaW1wbGllZC4KLy8gU2VlIHRoZSBMaWNlbnNlIGZvciB0aGUgc3BlY2lmaWMgbGFuZ3VhZ2UgZ292ZXJuaW5nIHBlcm1pc3Npb25zIGFuZAovLyBsaW1pdGF0aW9ucyB1bmRlciB0aGUgTGljZW5zZS4KCi8qKgogKiBAZmlsZW92ZXJ2aWV3IEhlbHBlcnMgZm9yIGdvb2dsZS5jb2xhYiBQeXRob24gbW9kdWxlLgogKi8KKGZ1bmN0aW9uKHNjb3BlKSB7CmZ1bmN0aW9uIHNwYW4odGV4dCwgc3R5bGVBdHRyaWJ1dGVzID0ge30pIHsKICBjb25zdCBlbGVtZW50ID0gZG9jdW1lbnQuY3JlYXRlRWxlbWVudCgnc3BhbicpOwogIGVsZW1lbnQudGV4dENvbnRlbnQgPSB0ZXh0OwogIGZvciAoY29uc3Qga2V5IG9mIE9iamVjdC5rZXlzKHN0eWxlQXR0cmlidXRlcykpIHsKICAgIGVsZW1lbnQuc3R5bGVba2V5XSA9IHN0eWxlQXR0cmlidXRlc1trZXldOwogIH0KICByZXR1cm4gZWxlbWVudDsKfQoKLy8gTWF4IG51bWJlciBvZiBieXRlcyB3aGljaCB3aWxsIGJlIHVwbG9hZGVkIGF0IGEgdGltZS4KY29uc3QgTUFYX1BBWUxPQURfU0laRSA9IDEwMCAqIDEwMjQ7Ci8vIE1heCBhbW91bnQgb2YgdGltZSB0byBibG9jayB3YWl0aW5nIGZvciB0aGUgdXNlci4KY29uc3QgRklMRV9DSEFOR0VfVElNRU9VVF9NUyA9IDMwICogMTAwMDsKCmZ1bmN0aW9uIF91cGxvYWRGaWxlcyhpbnB1dElkLCBvdXRwdXRJZCkgewogIGNvbnN0IHN0ZXBzID0gdXBsb2FkRmlsZXNTdGVwKGlucHV0SWQsIG91dHB1dElkKTsKICBjb25zdCBvdXRwdXRFbGVtZW50ID0gZG9jdW1lbnQuZ2V0RWxlbWVudEJ5SWQob3V0cHV0SWQpOwogIC8vIENhY2hlIHN0ZXBzIG9uIHRoZSBvdXRwdXRFbGVtZW50IHRvIG1ha2UgaXQgYXZhaWxhYmxlIGZvciB0aGUgbmV4dCBjYWxsCiAgLy8gdG8gdXBsb2FkRmlsZXNDb250aW51ZSBmcm9tIFB5dGhvbi4KICBvdXRwdXRFbGVtZW50LnN0ZXBzID0gc3RlcHM7CgogIHJldHVybiBfdXBsb2FkRmlsZXNDb250aW51ZShvdXRwdXRJZCk7Cn0KCi8vIFRoaXMgaXMgcm91Z2hseSBhbiBhc3luYyBnZW5lcmF0b3IgKG5vdCBzdXBwb3J0ZWQgaW4gdGhlIGJyb3dzZXIgeWV0KSwKLy8gd2hlcmUgdGhlcmUgYXJlIG11bHRpcGxlIGFzeW5jaHJvbm91cyBzdGVwcyBhbmQgdGhlIFB5dGhvbiBzaWRlIGlzIGdvaW5nCi8vIHRvIHBvbGwgZm9yIGNvbXBsZXRpb24gb2YgZWFjaCBzdGVwLgovLyBUaGlzIHVzZXMgYSBQcm9taXNlIHRvIGJsb2NrIHRoZSBweXRob24gc2lkZSBvbiBjb21wbGV0aW9uIG9mIGVhY2ggc3RlcCwKLy8gdGhlbiBwYXNzZXMgdGhlIHJlc3VsdCBvZiB0aGUgcHJldmlvdXMgc3RlcCBhcyB0aGUgaW5wdXQgdG8gdGhlIG5leHQgc3RlcC4KZnVuY3Rpb24gX3VwbG9hZEZpbGVzQ29udGludWUob3V0cHV0SWQpIHsKICBjb25zdCBvdXRwdXRFbGVtZW50ID0gZG9jdW1lbnQuZ2V0RWxlbWVudEJ5SWQob3V0cHV0SWQpOwogIGNvbnN0IHN0ZXBzID0gb3V0cHV0RWxlbWVudC5zdGVwczsKCiAgY29uc3QgbmV4dCA9IHN0ZXBzLm5leHQob3V0cHV0RWxlbWVudC5sYXN0UHJvbWlzZVZhbHVlKTsKICByZXR1cm4gUHJvbWlzZS5yZXNvbHZlKG5leHQudmFsdWUucHJvbWlzZSkudGhlbigodmFsdWUpID0+IHsKICAgIC8vIENhY2hlIHRoZSBsYXN0IHByb21pc2UgdmFsdWUgdG8gbWFrZSBpdCBhdmFpbGFibGUgdG8gdGhlIG5leHQKICAgIC8vIHN0ZXAgb2YgdGhlIGdlbmVyYXRvci4KICAgIG91dHB1dEVsZW1lbnQubGFzdFByb21pc2VWYWx1ZSA9IHZhbHVlOwogICAgcmV0dXJuIG5leHQudmFsdWUucmVzcG9uc2U7CiAgfSk7Cn0KCi8qKgogKiBHZW5lcmF0b3IgZnVuY3Rpb24gd2hpY2ggaXMgY2FsbGVkIGJldHdlZW4gZWFjaCBhc3luYyBzdGVwIG9mIHRoZSB1cGxvYWQKICogcHJvY2Vzcy4KICogQHBhcmFtIHtzdHJpbmd9IGlucHV0SWQgRWxlbWVudCBJRCBvZiB0aGUgaW5wdXQgZmlsZSBwaWNrZXIgZWxlbWVudC4KICogQHBhcmFtIHtzdHJpbmd9IG91dHB1dElkIEVsZW1lbnQgSUQgb2YgdGhlIG91dHB1dCBkaXNwbGF5LgogKiBAcmV0dXJuIHshSXRlcmFibGU8IU9iamVjdD59IEl0ZXJhYmxlIG9mIG5leHQgc3RlcHMuCiAqLwpmdW5jdGlvbiogdXBsb2FkRmlsZXNTdGVwKGlucHV0SWQsIG91dHB1dElkKSB7CiAgY29uc3QgaW5wdXRFbGVtZW50ID0gZG9jdW1lbnQuZ2V0RWxlbWVudEJ5SWQoaW5wdXRJZCk7CiAgaW5wdXRFbGVtZW50LmRpc2FibGVkID0gZmFsc2U7CgogIGNvbnN0IG91dHB1dEVsZW1lbnQgPSBkb2N1bWVudC5nZXRFbGVtZW50QnlJZChvdXRwdXRJZCk7CiAgb3V0cHV0RWxlbWVudC5pbm5lckhUTUwgPSAnJzsKCiAgY29uc3QgcGlja2VkUHJvbWlzZSA9IG5ldyBQcm9taXNlKChyZXNvbHZlKSA9PiB7CiAgICBpbnB1dEVsZW1lbnQuYWRkRXZlbnRMaXN0ZW5lcignY2hhbmdlJywgKGUpID0+IHsKICAgICAgcmVzb2x2ZShlLnRhcmdldC5maWxlcyk7CiAgICB9KTsKICB9KTsKCiAgY29uc3QgY2FuY2VsID0gZG9jdW1lbnQuY3JlYXRlRWxlbWVudCgnYnV0dG9uJyk7CiAgaW5wdXRFbGVtZW50LnBhcmVudEVsZW1lbnQuYXBwZW5kQ2hpbGQoY2FuY2VsKTsKICBjYW5jZWwudGV4dENvbnRlbnQgPSAnQ2FuY2VsIHVwbG9hZCc7CiAgY29uc3QgY2FuY2VsUHJvbWlzZSA9IG5ldyBQcm9taXNlKChyZXNvbHZlKSA9PiB7CiAgICBjYW5jZWwub25jbGljayA9ICgpID0+IHsKICAgICAgcmVzb2x2ZShudWxsKTsKICAgIH07CiAgfSk7CgogIC8vIENhbmNlbCB1cGxvYWQgaWYgdXNlciBoYXNuJ3QgcGlja2VkIGFueXRoaW5nIGluIHRpbWVvdXQuCiAgY29uc3QgdGltZW91dFByb21pc2UgPSBuZXcgUHJvbWlzZSgocmVzb2x2ZSkgPT4gewogICAgc2V0VGltZW91dCgoKSA9PiB7CiAgICAgIHJlc29sdmUobnVsbCk7CiAgICB9LCBGSUxFX0NIQU5HRV9USU1FT1VUX01TKTsKICB9KTsKCiAgLy8gV2FpdCBmb3IgdGhlIHVzZXIgdG8gcGljayB0aGUgZmlsZXMuCiAgY29uc3QgZmlsZXMgPSB5aWVsZCB7CiAgICBwcm9taXNlOiBQcm9taXNlLnJhY2UoW3BpY2tlZFByb21pc2UsIHRpbWVvdXRQcm9taXNlLCBjYW5jZWxQcm9taXNlXSksCiAgICByZXNwb25zZTogewogICAgICBhY3Rpb246ICdzdGFydGluZycsCiAgICB9CiAgfTsKCiAgaWYgKCFmaWxlcykgewogICAgcmV0dXJuIHsKICAgICAgcmVzcG9uc2U6IHsKICAgICAgICBhY3Rpb246ICdjb21wbGV0ZScsCiAgICAgIH0KICAgIH07CiAgfQoKICBjYW5jZWwucmVtb3ZlKCk7CgogIC8vIERpc2FibGUgdGhlIGlucHV0IGVsZW1lbnQgc2luY2UgZnVydGhlciBwaWNrcyBhcmUgbm90IGFsbG93ZWQuCiAgaW5wdXRFbGVtZW50LmRpc2FibGVkID0gdHJ1ZTsKCiAgZm9yIChjb25zdCBmaWxlIG9mIGZpbGVzKSB7CiAgICBjb25zdCBsaSA9IGRvY3VtZW50LmNyZWF0ZUVsZW1lbnQoJ2xpJyk7CiAgICBsaS5hcHBlbmQoc3BhbihmaWxlLm5hbWUsIHtmb250V2VpZ2h0OiAnYm9sZCd9KSk7CiAgICBsaS5hcHBlbmQoc3BhbigKICAgICAgICBgKCR7ZmlsZS50eXBlIHx8ICduL2EnfSkgLSAke2ZpbGUuc2l6ZX0gYnl0ZXMsIGAgKwogICAgICAgIGBsYXN0IG1vZGlmaWVkOiAkewogICAgICAgICAgICBmaWxlLmxhc3RNb2RpZmllZERhdGUgPyBmaWxlLmxhc3RNb2RpZmllZERhdGUudG9Mb2NhbGVEYXRlU3RyaW5nKCkgOgogICAgICAgICAgICAgICAgICAgICAgICAgICAgICAgICAgICAnbi9hJ30gLSBgKSk7CiAgICBjb25zdCBwZXJjZW50ID0gc3BhbignMCUgZG9uZScpOwogICAgbGkuYXBwZW5kQ2hpbGQocGVyY2VudCk7CgogICAgb3V0cHV0RWxlbWVudC5hcHBlbmRDaGlsZChsaSk7CgogICAgY29uc3QgZmlsZURhdGFQcm9taXNlID0gbmV3IFByb21pc2UoKHJlc29sdmUpID0+IHsKICAgICAgY29uc3QgcmVhZGVyID0gbmV3IEZpbGVSZWFkZXIoKTsKICAgICAgcmVhZGVyLm9ubG9hZCA9IChlKSA9PiB7CiAgICAgICAgcmVzb2x2ZShlLnRhcmdldC5yZXN1bHQpOwogICAgICB9OwogICAgICByZWFkZXIucmVhZEFzQXJyYXlCdWZmZXIoZmlsZSk7CiAgICB9KTsKICAgIC8vIFdhaXQgZm9yIHRoZSBkYXRhIHRvIGJlIHJlYWR5LgogICAgbGV0IGZpbGVEYXRhID0geWllbGQgewogICAgICBwcm9taXNlOiBmaWxlRGF0YVByb21pc2UsCiAgICAgIHJlc3BvbnNlOiB7CiAgICAgICAgYWN0aW9uOiAnY29udGludWUnLAogICAgICB9CiAgICB9OwoKICAgIC8vIFVzZSBhIGNodW5rZWQgc2VuZGluZyB0byBhdm9pZCBtZXNzYWdlIHNpemUgbGltaXRzLiBTZWUgYi82MjExNTY2MC4KICAgIGxldCBwb3NpdGlvbiA9IDA7CiAgICB3aGlsZSAocG9zaXRpb24gPCBmaWxlRGF0YS5ieXRlTGVuZ3RoKSB7CiAgICAgIGNvbnN0IGxlbmd0aCA9IE1hdGgubWluKGZpbGVEYXRhLmJ5dGVMZW5ndGggLSBwb3NpdGlvbiwgTUFYX1BBWUxPQURfU0laRSk7CiAgICAgIGNvbnN0IGNodW5rID0gbmV3IFVpbnQ4QXJyYXkoZmlsZURhdGEsIHBvc2l0aW9uLCBsZW5ndGgpOwogICAgICBwb3NpdGlvbiArPSBsZW5ndGg7CgogICAgICBjb25zdCBiYXNlNjQgPSBidG9hKFN0cmluZy5mcm9tQ2hhckNvZGUuYXBwbHkobnVsbCwgY2h1bmspKTsKICAgICAgeWllbGQgewogICAgICAgIHJlc3BvbnNlOiB7CiAgICAgICAgICBhY3Rpb246ICdhcHBlbmQnLAogICAgICAgICAgZmlsZTogZmlsZS5uYW1lLAogICAgICAgICAgZGF0YTogYmFzZTY0LAogICAgICAgIH0sCiAgICAgIH07CiAgICAgIHBlcmNlbnQudGV4dENvbnRlbnQgPQogICAgICAgICAgYCR7TWF0aC5yb3VuZCgocG9zaXRpb24gLyBmaWxlRGF0YS5ieXRlTGVuZ3RoKSAqIDEwMCl9JSBkb25lYDsKICAgIH0KICB9CgogIC8vIEFsbCBkb25lLgogIHlpZWxkIHsKICAgIHJlc3BvbnNlOiB7CiAgICAgIGFjdGlvbjogJ2NvbXBsZXRlJywKICAgIH0KICB9Owp9CgpzY29wZS5nb29nbGUgPSBzY29wZS5nb29nbGUgfHwge307CnNjb3BlLmdvb2dsZS5jb2xhYiA9IHNjb3BlLmdvb2dsZS5jb2xhYiB8fCB7fTsKc2NvcGUuZ29vZ2xlLmNvbGFiLl9maWxlcyA9IHsKICBfdXBsb2FkRmlsZXMsCiAgX3VwbG9hZEZpbGVzQ29udGludWUsCn07Cn0pKHNlbGYpOwo=",
              "ok": true,
              "headers": [
                [
                  "content-type",
                  "application/javascript"
                ]
              ],
              "status": 200,
              "status_text": ""
            }
          },
          "base_uri": "https://localhost:8080/",
          "height": 1000
        }
      },
      "source": [
        "import os, random\n",
        "import numpy as np\n",
        "import pandas as pd\n",
        "import matplotlib.pyplot as plt\n",
        "import tensorflow as tf\n",
        "from google.colab import files\n",
        "from sklearn.model_selection import train_test_split\n",
        "from tensorflow.keras import models, layers\n",
        "\n",
        "#乱数固定関数。colab上のCPUであれば再現性の確保が可能。\n",
        "def reset_seed(seed=0):\n",
        "    os.environ['PYTHONHASHSEED'] = '0'\n",
        "    random.seed(seed) # random関数のシードを固定\n",
        "    np.random.seed(seed) # numpyのシードを固定\n",
        "    tf.random.set_seed(seed) # tensorflowのシードを固定\n",
        "\n",
        "#ファイルアップデート\n",
        "uploaded = files.upload()\n",
        "\n",
        "#データ読み込み\n",
        "df = pd.read_csv('wine_class.csv')\n",
        "df.head(3) #先頭３件表示\n",
        "\n",
        "#入力変数、目的変数に切り分け\n",
        "t = df['Class'] #目的変数\n",
        "x = df.drop('Class',axis=1) #入力変数、axis=1で列方向の指定。0の場合は行\n",
        "\n",
        "# ユニークな値を確認\n",
        "np.unique(t) #分類問題の目的変数は0から始まる必要あり。　今回の場合は1からスタートしていることがわかる。\n",
        "# ラベルを 0 から始める\n",
        "t = t.values - 1\n",
        "x = x.values\n",
        "\n",
        "# 学習データとテストデータの分割\n",
        "x_train, x_test, t_train, t_test = train_test_split(x, t, train_size=0.7, random_state=0)\n",
        "\n",
        "# 32 bit にキャスト\n",
        "x_train = np.array(x_train, np.float32)\n",
        "x_test = np.array(x_train, np.float32)\n",
        "t_train = np.array(t_train, np.int32)\n",
        "t_test = np.array(t_train, np.int32)\n",
        "\n",
        "# シードの固定\n",
        "reset_seed(0)\n",
        "\n",
        "###モデル構築\n",
        "model = tf.keras.models.Sequential([\n",
        "    tf.keras.layers.BatchNormalization(input_shape=(10,)),\n",
        "    tf.keras.layers.Dense(10, activation='relu'),\n",
        "    tf.keras.layers.Dense(3, activation='softmax')\n",
        "])\n",
        "\n",
        "#下の書き方でも良い\n",
        "\"\"\"\n",
        "model = models.Sequential()\n",
        "model.add(layers.Dense(units=10, activation='relu', input_shape=(10,)))\n",
        "model.add(layers.Dense(units=3, activation='softmax'))\n",
        "\"\"\"\n",
        "\n",
        "###モデルのコンパイル(学習スタイルの定義)\n",
        "model.compile(\n",
        "    optimizer='sgd',\n",
        "    loss='sparse_categorical_crossentropy', #2値化分類はBinaryCrossentropy\n",
        "    metrics=['accuracy']\n",
        ")\n",
        "\n",
        "###モデルの学習\n",
        "history = model.fit(\n",
        "    x_train, t_train,\n",
        "    batch_size=10,\n",
        "    epochs=50,\n",
        "    validation_data=(x_test, t_test)\n",
        ")\n",
        "\n",
        "#学習結果を視覚化\n",
        "result = pd.DataFrame(history.history)\n",
        "result.head()\n",
        "result[['loss', 'val_loss']].plot(); #目的関数の値をプロット\n",
        "result[['accuracy', 'val_accuracy']].plot(); #正解率をプロット\n",
        "\n",
        "#ベストモデルの保存\n",
        "model.save(filepath='wine_model.h5', save_format='h5')\n",
        "\n",
        "###テストデータで性能確認\n",
        "#モデル読み込み\n",
        "load_model = tf.keras.models.load_model('wine_model.h5')\n",
        "#データ準備\n",
        "test_data = x_test[0]\n",
        "test_data.shape\n",
        "#モデルには[1,10]の形で入力する必要あり。（バッチサイズ,入力変数の形）で入力しなければならない\n",
        "test_data = test_data.reshape(1,10)\n",
        "#推論実施\n",
        "result_class = load_model.predict(test_data)\n",
        "result_class\n",
        "print(\"Inference result = \", np.argmax(result_class) )#クラス分類のうち最も確率の高いクラスを抽出\n",
        "#答え合わせ\n",
        "print(\"Answer = \",t_test[0])"
      ],
      "execution_count": 11,
      "outputs": [
        {
          "output_type": "display_data",
          "data": {
            "text/html": [
              "\n",
              "     <input type=\"file\" id=\"files-b3f7eb63-00cb-43bd-9ce1-eaa7b739ce5b\" name=\"files[]\" multiple disabled />\n",
              "     <output id=\"result-b3f7eb63-00cb-43bd-9ce1-eaa7b739ce5b\">\n",
              "      Upload widget is only available when the cell has been executed in the\n",
              "      current browser session. Please rerun this cell to enable.\n",
              "      </output>\n",
              "      <script src=\"/nbextensions/google.colab/files.js\"></script> "
            ],
            "text/plain": [
              "<IPython.core.display.HTML object>"
            ]
          },
          "metadata": {
            "tags": []
          }
        },
        {
          "output_type": "stream",
          "text": [
            "Saving wine_class.csv to wine_class (6).csv\n",
            "Epoch 1/50\n",
            "13/13 [==============================] - 0s 13ms/step - loss: 1.1147 - accuracy: 0.4113 - val_loss: 6.6567 - val_accuracy: 0.2823\n",
            "Epoch 2/50\n",
            "13/13 [==============================] - 0s 5ms/step - loss: 0.9663 - accuracy: 0.5242 - val_loss: 4.8539 - val_accuracy: 0.4194\n",
            "Epoch 3/50\n",
            "13/13 [==============================] - 0s 5ms/step - loss: 0.8845 - accuracy: 0.6371 - val_loss: 4.2069 - val_accuracy: 0.5968\n",
            "Epoch 4/50\n",
            "13/13 [==============================] - 0s 5ms/step - loss: 0.7976 - accuracy: 0.6452 - val_loss: 3.8261 - val_accuracy: 0.5968\n",
            "Epoch 5/50\n",
            "13/13 [==============================] - 0s 5ms/step - loss: 0.7996 - accuracy: 0.6774 - val_loss: 3.5485 - val_accuracy: 0.5887\n",
            "Epoch 6/50\n",
            "13/13 [==============================] - 0s 5ms/step - loss: 0.6504 - accuracy: 0.8065 - val_loss: 3.2491 - val_accuracy: 0.5806\n",
            "Epoch 7/50\n",
            "13/13 [==============================] - 0s 5ms/step - loss: 0.5696 - accuracy: 0.8548 - val_loss: 2.9814 - val_accuracy: 0.5726\n",
            "Epoch 8/50\n",
            "13/13 [==============================] - 0s 5ms/step - loss: 0.5275 - accuracy: 0.8710 - val_loss: 2.7237 - val_accuracy: 0.5806\n",
            "Epoch 9/50\n",
            "13/13 [==============================] - 0s 5ms/step - loss: 0.4686 - accuracy: 0.8710 - val_loss: 2.4249 - val_accuracy: 0.5806\n",
            "Epoch 10/50\n",
            "13/13 [==============================] - 0s 5ms/step - loss: 0.5327 - accuracy: 0.8065 - val_loss: 2.1775 - val_accuracy: 0.5887\n",
            "Epoch 11/50\n",
            "13/13 [==============================] - 0s 5ms/step - loss: 0.4810 - accuracy: 0.8226 - val_loss: 1.8819 - val_accuracy: 0.5887\n",
            "Epoch 12/50\n",
            "13/13 [==============================] - 0s 5ms/step - loss: 0.4626 - accuracy: 0.8790 - val_loss: 1.6278 - val_accuracy: 0.5968\n",
            "Epoch 13/50\n",
            "13/13 [==============================] - 0s 5ms/step - loss: 0.3677 - accuracy: 0.9113 - val_loss: 1.3965 - val_accuracy: 0.6048\n",
            "Epoch 14/50\n",
            "13/13 [==============================] - 0s 5ms/step - loss: 0.3924 - accuracy: 0.9113 - val_loss: 1.1914 - val_accuracy: 0.6694\n",
            "Epoch 15/50\n",
            "13/13 [==============================] - 0s 5ms/step - loss: 0.3351 - accuracy: 0.9113 - val_loss: 1.0171 - val_accuracy: 0.6935\n",
            "Epoch 16/50\n",
            "13/13 [==============================] - 0s 5ms/step - loss: 0.4183 - accuracy: 0.8548 - val_loss: 0.8510 - val_accuracy: 0.7097\n",
            "Epoch 17/50\n",
            "13/13 [==============================] - 0s 5ms/step - loss: 0.3328 - accuracy: 0.9032 - val_loss: 0.7204 - val_accuracy: 0.7581\n",
            "Epoch 18/50\n",
            "13/13 [==============================] - 0s 5ms/step - loss: 0.3750 - accuracy: 0.8710 - val_loss: 0.6181 - val_accuracy: 0.7903\n",
            "Epoch 19/50\n",
            "13/13 [==============================] - 0s 5ms/step - loss: 0.4409 - accuracy: 0.8710 - val_loss: 0.5402 - val_accuracy: 0.8226\n",
            "Epoch 20/50\n",
            "13/13 [==============================] - 0s 5ms/step - loss: 0.2832 - accuracy: 0.9032 - val_loss: 0.4689 - val_accuracy: 0.8468\n",
            "Epoch 21/50\n",
            "13/13 [==============================] - 0s 5ms/step - loss: 0.2926 - accuracy: 0.9032 - val_loss: 0.4084 - val_accuracy: 0.8710\n",
            "Epoch 22/50\n",
            "13/13 [==============================] - 0s 5ms/step - loss: 0.3189 - accuracy: 0.9194 - val_loss: 0.3653 - val_accuracy: 0.8871\n",
            "Epoch 23/50\n",
            "13/13 [==============================] - 0s 5ms/step - loss: 0.3246 - accuracy: 0.9032 - val_loss: 0.3222 - val_accuracy: 0.9194\n",
            "Epoch 24/50\n",
            "13/13 [==============================] - 0s 5ms/step - loss: 0.2934 - accuracy: 0.9113 - val_loss: 0.2938 - val_accuracy: 0.9274\n",
            "Epoch 25/50\n",
            "13/13 [==============================] - 0s 5ms/step - loss: 0.3174 - accuracy: 0.8710 - val_loss: 0.2668 - val_accuracy: 0.9274\n",
            "Epoch 26/50\n",
            "13/13 [==============================] - 0s 6ms/step - loss: 0.2584 - accuracy: 0.9274 - val_loss: 0.2471 - val_accuracy: 0.9274\n",
            "Epoch 27/50\n",
            "13/13 [==============================] - 0s 5ms/step - loss: 0.3048 - accuracy: 0.8952 - val_loss: 0.2305 - val_accuracy: 0.9274\n",
            "Epoch 28/50\n",
            "13/13 [==============================] - 0s 5ms/step - loss: 0.2270 - accuracy: 0.9435 - val_loss: 0.2140 - val_accuracy: 0.9435\n",
            "Epoch 29/50\n",
            "13/13 [==============================] - 0s 5ms/step - loss: 0.2337 - accuracy: 0.9274 - val_loss: 0.2031 - val_accuracy: 0.9435\n",
            "Epoch 30/50\n",
            "13/13 [==============================] - 0s 5ms/step - loss: 0.2220 - accuracy: 0.9274 - val_loss: 0.1933 - val_accuracy: 0.9435\n",
            "Epoch 31/50\n",
            "13/13 [==============================] - 0s 5ms/step - loss: 0.2324 - accuracy: 0.9435 - val_loss: 0.1841 - val_accuracy: 0.9435\n",
            "Epoch 32/50\n",
            "13/13 [==============================] - 0s 5ms/step - loss: 0.2138 - accuracy: 0.9274 - val_loss: 0.1725 - val_accuracy: 0.9516\n",
            "Epoch 33/50\n",
            "13/13 [==============================] - 0s 5ms/step - loss: 0.1843 - accuracy: 0.9516 - val_loss: 0.1621 - val_accuracy: 0.9516\n",
            "Epoch 34/50\n",
            "13/13 [==============================] - 0s 5ms/step - loss: 0.1935 - accuracy: 0.9194 - val_loss: 0.1530 - val_accuracy: 0.9516\n",
            "Epoch 35/50\n",
            "13/13 [==============================] - 0s 6ms/step - loss: 0.2269 - accuracy: 0.9516 - val_loss: 0.1452 - val_accuracy: 0.9597\n",
            "Epoch 36/50\n",
            "13/13 [==============================] - 0s 5ms/step - loss: 0.2623 - accuracy: 0.9274 - val_loss: 0.1390 - val_accuracy: 0.9597\n",
            "Epoch 37/50\n",
            "13/13 [==============================] - 0s 5ms/step - loss: 0.2020 - accuracy: 0.9516 - val_loss: 0.1337 - val_accuracy: 0.9597\n",
            "Epoch 38/50\n",
            "13/13 [==============================] - 0s 5ms/step - loss: 0.2236 - accuracy: 0.9435 - val_loss: 0.1304 - val_accuracy: 0.9597\n",
            "Epoch 39/50\n",
            "13/13 [==============================] - 0s 6ms/step - loss: 0.1983 - accuracy: 0.9355 - val_loss: 0.1251 - val_accuracy: 0.9677\n",
            "Epoch 40/50\n",
            "13/13 [==============================] - 0s 5ms/step - loss: 0.2644 - accuracy: 0.9032 - val_loss: 0.1208 - val_accuracy: 0.9677\n",
            "Epoch 41/50\n",
            "13/13 [==============================] - 0s 5ms/step - loss: 0.2510 - accuracy: 0.9516 - val_loss: 0.1208 - val_accuracy: 0.9677\n",
            "Epoch 42/50\n",
            "13/13 [==============================] - 0s 5ms/step - loss: 0.2012 - accuracy: 0.9274 - val_loss: 0.1179 - val_accuracy: 0.9677\n",
            "Epoch 43/50\n",
            "13/13 [==============================] - 0s 5ms/step - loss: 0.1516 - accuracy: 0.9516 - val_loss: 0.1151 - val_accuracy: 0.9677\n",
            "Epoch 44/50\n",
            "13/13 [==============================] - 0s 5ms/step - loss: 0.1855 - accuracy: 0.9597 - val_loss: 0.1125 - val_accuracy: 0.9677\n",
            "Epoch 45/50\n",
            "13/13 [==============================] - 0s 6ms/step - loss: 0.2121 - accuracy: 0.9113 - val_loss: 0.1102 - val_accuracy: 0.9677\n",
            "Epoch 46/50\n",
            "13/13 [==============================] - 0s 5ms/step - loss: 0.2952 - accuracy: 0.8871 - val_loss: 0.1080 - val_accuracy: 0.9677\n",
            "Epoch 47/50\n",
            "13/13 [==============================] - 0s 5ms/step - loss: 0.2334 - accuracy: 0.9355 - val_loss: 0.1064 - val_accuracy: 0.9758\n",
            "Epoch 48/50\n",
            "13/13 [==============================] - 0s 5ms/step - loss: 0.1511 - accuracy: 0.9597 - val_loss: 0.1033 - val_accuracy: 0.9758\n",
            "Epoch 49/50\n",
            "13/13 [==============================] - 0s 6ms/step - loss: 0.2320 - accuracy: 0.9194 - val_loss: 0.1016 - val_accuracy: 0.9758\n",
            "Epoch 50/50\n",
            "13/13 [==============================] - 0s 5ms/step - loss: 0.2309 - accuracy: 0.9113 - val_loss: 0.0991 - val_accuracy: 0.9758\n",
            "Inference result =  0\n",
            "Answer =  0\n"
          ],
          "name": "stdout"
        },
        {
          "output_type": "display_data",
          "data": {
            "image/png": "[encoded data removed]",
            "text/plain": [
              "<Figure size 432x288 with 1 Axes>"
            ]
          },
          "metadata": {
            "tags": [],
            "needs_background": "light"
          }
        },
        {
          "output_type": "display_data",
          "data": {
            "image/png": "[encoded data removed]",
            "text/plain": [
              "<Figure size 432x288 with 1 Axes>"
            ]
          },
          "metadata": {
            "tags": [],
            "needs_background": "light"
          }
        }
      ]
    },
    {
      "cell_type": "markdown",
      "metadata": {
        "id": "NvUxll_5FiHW",
        "colab_type": "text"
      },
      "source": [
        ""
      ]
    },
    {
      "cell_type": "code",
      "metadata": {
        "id": "-xQxjwhWFho9",
        "colab_type": "code",
        "colab": {}
      },
      "source": [
        ""
      ],
      "execution_count": 0,
      "outputs": []
    }
  ]
}